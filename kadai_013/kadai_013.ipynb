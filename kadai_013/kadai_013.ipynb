{
  "nbformat": 4,
  "nbformat_minor": 0,
  "metadata": {
    "colab": {
      "provenance": []
    },
    "kernelspec": {
      "name": "python3",
      "display_name": "Python 3"
    },
    "language_info": {
      "name": "python"
    }
  },
  "cells": [
    {
      "cell_type": "code",
      "source": [
        "def return_price(price, tax):\n",
        "    return price * (tax/100+1)\n",
        "\n",
        "price2=return_price(110,10)\n",
        "print(f\"{price2}円\")"
      ],
      "metadata": {
        "id": "8jbSNwTlXKR3",
        "outputId": "5044feb2-504d-4161-c0c2-e7981542e370",
        "colab": {
          "base_uri": "https://localhost:8080/"
        }
      },
      "execution_count": 8,
      "outputs": [
        {
          "output_type": "stream",
          "name": "stdout",
          "text": [
            "121.00000000000001円\n"
          ]
        }
      ]
    }
  ]
}