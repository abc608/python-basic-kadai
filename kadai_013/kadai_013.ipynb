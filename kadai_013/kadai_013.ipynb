{
  "nbformat": 4,
  "nbformat_minor": 0,
  "metadata": {
    "colab": {
      "provenance": []
    },
    "kernelspec": {
      "name": "python3",
      "display_name": "Python 3"
    },
    "language_info": {
      "name": "python"
    }
  },
  "cells": [
    {
      "cell_type": "code",
      "source": [
        "def price(cost, tax):\n",
        "    return cost * tax\n",
        "\n",
        "price2=price(110,1.1)\n",
        "print(f\"{price2}円\")"
      ],
      "metadata": {
        "id": "dKKFHr14TyLj",
        "outputId": "9324dea4-302f-4551-f5f4-117ac6c00f96",
        "colab": {
          "base_uri": "https://localhost:8080/"
        }
      },
      "execution_count": 4,
      "outputs": [
        {
          "output_type": "stream",
          "name": "stdout",
          "text": [
            "121.00000000000001円\n"
          ]
        }
      ]
    }
  ]
}