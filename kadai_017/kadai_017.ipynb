{
  "nbformat": 4,
  "nbformat_minor": 0,
  "metadata": {
    "colab": {
      "provenance": []
    },
    "kernelspec": {
      "name": "python3",
      "display_name": "Python 3"
    },
    "language_info": {
      "name": "python"
    }
  },
  "cells": [
    {
      "cell_type": "code",
      "source": [
        "#名前(name)と年齢(age)の属性を持つHumanクラスを作成してください。\n",
        "#Humanクラスには、以下の条件で標準出力(print)するcheck_adultメソッドを追加してください。\n",
        "#ageが20以上の場合に大人であること\n",
        "#そうでない場合に大人でないこと\n",
        "#Humanクラスのインスタンスを複数生成してリストに追加し、リストの要素数分だけcheck_adultメソッドを呼び出してください。\n",
        "class Human:\n",
        "    def __init__(self, name, age):\n",
        "      self.name=name\n",
        "      self.age=age\n",
        "    def check_adult(self):\n",
        "      if self.age >= 20 :\n",
        "        print(self.name,\"adult\")\n",
        "      else:\n",
        "        print(self.name,\"child\")\n",
        "people=[\n",
        "    Human(\"Yamada\",80),\n",
        "    Human(\"Tanaka\",18),\n",
        "    Human(\"Suzuki\",20)\n",
        "]\n",
        "\n",
        "for person in people:\n",
        "    person.check_adult()"
      ],
      "metadata": {
        "id": "YhCuK8JTT3cm",
        "outputId": "a45bd8ac-4dc7-43c4-9c12-f737dd888621",
        "colab": {
          "base_uri": "https://localhost:8080/"
        }
      },
      "execution_count": 56,
      "outputs": [
        {
          "output_type": "stream",
          "name": "stdout",
          "text": [
            "Yamada adult\n",
            "Tanaka child\n",
            "Suzuki adult\n"
          ]
        }
      ]
    }
  ]
}