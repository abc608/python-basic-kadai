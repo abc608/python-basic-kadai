{
  "nbformat": 4,
  "nbformat_minor": 0,
  "metadata": {
    "colab": {
      "provenance": []
    },
    "kernelspec": {
      "name": "python3",
      "display_name": "Python 3"
    },
    "language_info": {
      "name": "python"
    }
  },
  "cells": [
    {
      "cell_type": "code",
      "source": [
        "#名前(name)と年齢(age)の属性を持つHumanクラスを作成してください。\n",
        "#nameとageを標準出力(print)するメソッド(printinfo)を追加してください。\n",
        "#Humanクラスのインスタンスは、変数に代入してプログラム内で使用してください。\n",
        "class Human:\n",
        "    def __init__(self, name, age):\n",
        "      self.name=name\n",
        "      self.age=age\n",
        "    def printinfo(self):\n",
        "      print(\"name\",self.name)\n",
        "      print(\"age\",self.age)\n",
        "\n",
        "yamada=Human(\"a\",80)\n",
        "yamada.printinfo()"
      ],
      "metadata": {
        "colab": {
          "base_uri": "https://localhost:8080/"
        },
        "id": "y40uzmDzdAWy",
        "outputId": "ee872e5f-545b-4e30-e997-5f092fadd1f6"
      },
      "execution_count": 35,
      "outputs": [
        {
          "output_type": "stream",
          "name": "stdout",
          "text": [
            "name a\n",
            "age 80\n"
          ]
        }
      ]
    }
  ]
}