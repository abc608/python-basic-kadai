{
  "nbformat": 4,
  "nbformat_minor": 0,
  "metadata": {
    "colab": {
      "provenance": []
    },
    "kernelspec": {
      "name": "python3",
      "display_name": "Python 3"
    },
    "language_info": {
      "name": "python"
    }
  },
  "cells": [
    {
      "cell_type": "code",
      "source": [
        "#名前(name)と年齢(age)の属性を持つHumanクラスを作成してください。\n",
        "#nameとageを標準出力(print)するメソッド(printinfo)を追加してください。\n",
        "#Humanクラスのインスタンスは、変数に代入してプログラム内で使用してください。\n",
        "class Human:\n",
        "    def __init__(self):\n",
        "        # 属性を定義する\n",
        "        self.name = \"\"\n",
        "        self.age= \"\"\n",
        "printinfo=Human()\n",
        "\n",
        "printinfo.age = \"a\"\n",
        "\n",
        "print(printinfo.age)"
      ],
      "metadata": {
        "id": "y40uzmDzdAWy",
        "outputId": "f45837f2-bc03-47c0-86c2-54b9ba388803",
        "colab": {
          "base_uri": "https://localhost:8080/"
        }
      },
      "execution_count": 12,
      "outputs": [
        {
          "output_type": "stream",
          "name": "stdout",
          "text": [
            "a\n"
          ]
        }
      ]
    }
  ]
}