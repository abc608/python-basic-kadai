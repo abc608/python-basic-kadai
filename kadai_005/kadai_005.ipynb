{
  "nbformat": 4,
  "nbformat_minor": 0,
  "metadata": {
    "colab": {
      "provenance": []
    },
    "kernelspec": {
      "name": "python3",
      "display_name": "Python 3"
    },
    "language_info": {
      "name": "python"
    }
  },
  "cells": [
    {
      "cell_type": "code",
      "execution_count": 9,
      "metadata": {
        "colab": {
          "base_uri": "https://localhost:8080/"
        },
        "id": "LxRHRjanoio1",
        "outputId": "d216b041-93f4-4c35-ea2f-e85fd70ea0f6"
      },
      "outputs": [
        {
          "output_type": "stream",
          "name": "stdout",
          "text": [
            "75.0cm²\n"
          ]
        }
      ],
      "source": [
        "base1=10\n",
        "base2=20\n",
        "height=5\n",
        "area=(base1+base2)*height/2\n",
        "\n",
        "print (f\"{area}cm²\")"
      ]
    }
  ]
}